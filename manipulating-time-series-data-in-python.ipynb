{
 "cells": [
  {
   "cell_type": "code",
   "execution_count": null,
   "id": "5d3e0a87-bf32-4ae1-b2db-91478ead5e78",
   "metadata": {},
   "outputs": [],
   "source": [
    "import pandas as pd\n",
    "from datetime import datetime"
   ]
  },
  {
   "cell_type": "markdown",
   "id": "e2b8a117-f3f6-4c7f-9d25-1de720179293",
   "metadata": {},
   "source": [
    "- Basic building block: `pd.Timestamp`\n",
    "- More building blocks: `pd.Period` and `freq`"
   ]
  },
  {
   "cell_type": "code",
   "execution_count": null,
   "id": "a4f363bc-b52c-4756-a4c4-d2740dcac308",
   "metadata": {},
   "outputs": [],
   "source": [
    "time_stamp = pd.Timestamp(datetime(2017, 1, 1))"
   ]
  },
  {
   "cell_type": "code",
   "execution_count": null,
   "id": "95a8e78c-0bef-4dfa-b662-659564aa36d1",
   "metadata": {},
   "outputs": [],
   "source": [
    "pd.Timestamp(\"2017-01-01\") == time_stamp"
   ]
  },
  {
   "cell_type": "code",
   "execution_count": null,
   "id": "4ab5c81f-d1fe-4c13-a24b-7b2638d46c87",
   "metadata": {},
   "outputs": [],
   "source": [
    "time_stamp"
   ]
  },
  {
   "cell_type": "code",
   "execution_count": null,
   "id": "d5c9419c-87c2-40a7-8a97-0b766b8433e2",
   "metadata": {},
   "outputs": [],
   "source": [
    "type(time_stamp)"
   ]
  },
  {
   "cell_type": "code",
   "execution_count": null,
   "id": "0a6244aa-fb79-41e4-96b5-c9d610a23943",
   "metadata": {},
   "outputs": [],
   "source": [
    "time_stamp.year"
   ]
  },
  {
   "cell_type": "code",
   "execution_count": null,
   "id": "5942fd69-9605-42ef-9b39-93d6792ab759",
   "metadata": {},
   "outputs": [],
   "source": [
    "time_stamp.day_name()"
   ]
  },
  {
   "cell_type": "code",
   "execution_count": null,
   "id": "685567dd-364e-4783-92ed-981f9cdce29d",
   "metadata": {},
   "outputs": [],
   "source": [
    "period = pd.Period(\"2017-01\")\n",
    "period"
   ]
  },
  {
   "cell_type": "code",
   "execution_count": null,
   "id": "088f150b-6453-490b-a496-60ae88e86c91",
   "metadata": {},
   "outputs": [],
   "source": [
    "period.asfreq(\"D\")"
   ]
  },
  {
   "cell_type": "code",
   "execution_count": null,
   "id": "01cb2fac-dbf2-45f6-8a74-19f3a8d223b9",
   "metadata": {},
   "outputs": [],
   "source": [
    "period.to_timestamp()"
   ]
  },
  {
   "cell_type": "code",
   "execution_count": null,
   "id": "1719b583-89f0-403d-b7ef-9390379bc6ea",
   "metadata": {},
   "outputs": [],
   "source": [
    "period.to_timestamp().to_period(\"M\")"
   ]
  },
  {
   "cell_type": "code",
   "execution_count": null,
   "id": "3587d58a-c5aa-48a9-96c4-a009992dc0cc",
   "metadata": {},
   "outputs": [],
   "source": [
    "period, period + 2"
   ]
  },
  {
   "cell_type": "markdown",
   "id": "2e9e8c17-1ae6-4dba-a308-6119737a3f3a",
   "metadata": {},
   "source": [
    "---"
   ]
  }
 ],
 "metadata": {
  "kernelspec": {
   "display_name": "Python 3 (ipykernel)",
   "language": "python",
   "name": "python3"
  },
  "language_info": {
   "codemirror_mode": {
    "name": "ipython",
    "version": 3
   },
   "file_extension": ".py",
   "mimetype": "text/x-python",
   "name": "python",
   "nbconvert_exporter": "python",
   "pygments_lexer": "ipython3",
   "version": "3.7.12"
  }
 },
 "nbformat": 4,
 "nbformat_minor": 5
}
