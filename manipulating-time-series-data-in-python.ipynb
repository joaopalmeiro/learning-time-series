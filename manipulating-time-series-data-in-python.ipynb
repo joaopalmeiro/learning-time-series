{
 "cells": [
  {
   "cell_type": "code",
   "execution_count": null,
   "id": "5d3e0a87-bf32-4ae1-b2db-91478ead5e78",
   "metadata": {},
   "outputs": [],
   "source": [
    "import pandas as pd\n",
    "from datetime import datetime"
   ]
  },
  {
   "cell_type": "code",
   "execution_count": null,
   "id": "e01f78c0-36cd-4a27-88b6-26b8ed77efe6",
   "metadata": {},
   "outputs": [],
   "source": [
    "pd.__version__"
   ]
  },
  {
   "cell_type": "markdown",
   "id": "36dbb742-c9ab-4348-b607-679044450b39",
   "metadata": {},
   "source": [
    "---"
   ]
  },
  {
   "cell_type": "markdown",
   "id": "e2b8a117-f3f6-4c7f-9d25-1de720179293",
   "metadata": {},
   "source": [
    "- Basic building block: `pd.Timestamp`\n",
    "- More building blocks: `pd.Period` and `freq`\n",
    "- `ns`: nanoseconds\n",
    "- Time series frequencies: https://pandas.pydata.org/pandas-docs/stable/user_guide/timeseries.html#offset-aliases"
   ]
  },
  {
   "cell_type": "code",
   "execution_count": null,
   "id": "a4f363bc-b52c-4756-a4c4-d2740dcac308",
   "metadata": {},
   "outputs": [],
   "source": [
    "time_stamp = pd.Timestamp(datetime(2017, 1, 1))"
   ]
  },
  {
   "cell_type": "code",
   "execution_count": null,
   "id": "95a8e78c-0bef-4dfa-b662-659564aa36d1",
   "metadata": {},
   "outputs": [],
   "source": [
    "pd.Timestamp(\"2017-01-01\") == time_stamp"
   ]
  },
  {
   "cell_type": "code",
   "execution_count": null,
   "id": "4ab5c81f-d1fe-4c13-a24b-7b2638d46c87",
   "metadata": {},
   "outputs": [],
   "source": [
    "time_stamp"
   ]
  },
  {
   "cell_type": "code",
   "execution_count": null,
   "id": "d5c9419c-87c2-40a7-8a97-0b766b8433e2",
   "metadata": {},
   "outputs": [],
   "source": [
    "type(time_stamp)"
   ]
  },
  {
   "cell_type": "code",
   "execution_count": null,
   "id": "0a6244aa-fb79-41e4-96b5-c9d610a23943",
   "metadata": {},
   "outputs": [],
   "source": [
    "time_stamp.year"
   ]
  },
  {
   "cell_type": "code",
   "execution_count": null,
   "id": "5942fd69-9605-42ef-9b39-93d6792ab759",
   "metadata": {},
   "outputs": [],
   "source": [
    "time_stamp.day_name()"
   ]
  },
  {
   "cell_type": "code",
   "execution_count": null,
   "id": "685567dd-364e-4783-92ed-981f9cdce29d",
   "metadata": {},
   "outputs": [],
   "source": [
    "period = pd.Period(\"2017-01\")\n",
    "period"
   ]
  },
  {
   "cell_type": "code",
   "execution_count": null,
   "id": "088f150b-6453-490b-a496-60ae88e86c91",
   "metadata": {},
   "outputs": [],
   "source": [
    "period.asfreq(\"D\")"
   ]
  },
  {
   "cell_type": "code",
   "execution_count": null,
   "id": "01cb2fac-dbf2-45f6-8a74-19f3a8d223b9",
   "metadata": {},
   "outputs": [],
   "source": [
    "period.to_timestamp()"
   ]
  },
  {
   "cell_type": "code",
   "execution_count": null,
   "id": "1719b583-89f0-403d-b7ef-9390379bc6ea",
   "metadata": {},
   "outputs": [],
   "source": [
    "period.to_timestamp().to_period(\"M\")"
   ]
  },
  {
   "cell_type": "code",
   "execution_count": null,
   "id": "3587d58a-c5aa-48a9-96c4-a009992dc0cc",
   "metadata": {},
   "outputs": [],
   "source": [
    "period, period + 2"
   ]
  },
  {
   "cell_type": "code",
   "execution_count": null,
   "id": "001ad801-b54f-4517-ad2b-70a67311374f",
   "metadata": {},
   "outputs": [],
   "source": [
    "index = pd.date_range(start=\"2017-01-01\", periods=12, freq=\"M\")\n",
    "index"
   ]
  },
  {
   "cell_type": "code",
   "execution_count": null,
   "id": "ba9235b8-5dd5-44d1-a952-fd06da7b938e",
   "metadata": {},
   "outputs": [],
   "source": [
    "type(index)"
   ]
  },
  {
   "cell_type": "markdown",
   "id": "a387fc78-6b0f-4106-9a25-857715dbc187",
   "metadata": {},
   "source": [
    "Each date in `pd.DatetimeIndex` is a `pd.Timestamp`."
   ]
  },
  {
   "cell_type": "code",
   "execution_count": null,
   "id": "13f52a91-bdcd-4f57-a98d-456e130b5a4c",
   "metadata": {},
   "outputs": [],
   "source": [
    "index[0]"
   ]
  },
  {
   "cell_type": "code",
   "execution_count": null,
   "id": "41be6776-6dc5-49ee-9042-23676061b7d9",
   "metadata": {},
   "outputs": [],
   "source": [
    "type(index[0])"
   ]
  },
  {
   "cell_type": "code",
   "execution_count": null,
   "id": "00ba11e1-eaae-4a84-8e37-614145a8d21c",
   "metadata": {},
   "outputs": [],
   "source": [
    "index.to_period()"
   ]
  },
  {
   "cell_type": "markdown",
   "id": "1af871e6-e5c7-40e0-9eb3-3452b2ee8456",
   "metadata": {},
   "source": [
    "---"
   ]
  },
  {
   "cell_type": "code",
   "execution_count": null,
   "id": "ce19ee5a-80d9-4666-b7d3-08a89666e19b",
   "metadata": {},
   "outputs": [],
   "source": [
    "google = pd.read_csv(\"data/google.csv\")\n",
    "google.info()"
   ]
  },
  {
   "cell_type": "code",
   "execution_count": null,
   "id": "3156f0e4-067b-4f8e-b261-66cb78964a17",
   "metadata": {},
   "outputs": [],
   "source": [
    "google = google.dropna()\n",
    "google.info()"
   ]
  },
  {
   "cell_type": "code",
   "execution_count": null,
   "id": "8eed241b-8ca9-4fc3-92da-c95609a89943",
   "metadata": {},
   "outputs": [],
   "source": [
    "google.head()"
   ]
  },
  {
   "cell_type": "code",
   "execution_count": null,
   "id": "a089efec-304a-4081-8dda-25ab78d6393e",
   "metadata": {},
   "outputs": [],
   "source": [
    "google.tail()"
   ]
  },
  {
   "cell_type": "code",
   "execution_count": null,
   "id": "2f19d6ec-0433-4079-aeb5-7e73e9778f77",
   "metadata": {},
   "outputs": [],
   "source": [
    "google[\"Date\"] = pd.to_datetime(google[\"Date\"])\n",
    "google.info()"
   ]
  },
  {
   "cell_type": "code",
   "execution_count": null,
   "id": "e56b66b2-1c25-49c6-bab4-43e2a4bea76b",
   "metadata": {},
   "outputs": [],
   "source": [
    "google.set_index(\"Date\", inplace=True)\n",
    "google.info()"
   ]
  },
  {
   "cell_type": "markdown",
   "id": "3c269816-8847-40f4-bc01-ff6b1176dc93",
   "metadata": {
    "tags": []
   },
   "source": [
    "## Partial string indexing"
   ]
  },
  {
   "cell_type": "markdown",
   "id": "523b127c-da79-4ffc-971d-ed5261e788cf",
   "metadata": {},
   "source": [
    "If you pass a string representing a year, pandas returns all dates within that year."
   ]
  },
  {
   "cell_type": "code",
   "execution_count": null,
   "id": "b5013304-c6dd-447d-a164-46c8d102cd49",
   "metadata": {},
   "outputs": [],
   "source": [
    "# Deprecated\n",
    "# google[\"2015\"].info()"
   ]
  },
  {
   "cell_type": "code",
   "execution_count": null,
   "id": "f78eb196-9260-4b4b-bab8-481a7c94035b",
   "metadata": {},
   "outputs": [],
   "source": [
    "google.loc[\"2015\"].info()"
   ]
  },
  {
   "cell_type": "code",
   "execution_count": null,
   "id": "cf28d760-7453-44d6-bcca-1484d065b749",
   "metadata": {},
   "outputs": [],
   "source": [
    "# Includes the end date\n",
    "google[\"2015-03\":\"2016-02\"].info()"
   ]
  },
  {
   "cell_type": "code",
   "execution_count": null,
   "id": "d07cdd3b-82b1-4f30-907b-b526a3e16032",
   "metadata": {},
   "outputs": [],
   "source": [
    "google.loc[\"2016-06-01\", \"Close\"]"
   ]
  },
  {
   "cell_type": "code",
   "execution_count": null,
   "id": "0064c224-0c4b-403c-897a-e51e03ce2236",
   "metadata": {},
   "outputs": [],
   "source": [
    "google.asfreq(\"D\").info()"
   ]
  },
  {
   "cell_type": "code",
   "execution_count": null,
   "id": "3291980a-4bff-4df4-aaa7-9a283ad0ab3d",
   "metadata": {},
   "outputs": [],
   "source": [
    "google.asfreq(\"D\").head()"
   ]
  },
  {
   "cell_type": "code",
   "execution_count": null,
   "id": "2eff8d0b-9dad-4047-8118-d8394d2612e9",
   "metadata": {},
   "outputs": [],
   "source": [
    "google.asfreq(\"M\").info()"
   ]
  },
  {
   "cell_type": "code",
   "execution_count": null,
   "id": "6104b44d-f71c-40d1-b955-a2d8f73f0749",
   "metadata": {},
   "outputs": [],
   "source": [
    "google.asfreq(\"M\").head()"
   ]
  },
  {
   "cell_type": "markdown",
   "id": "fae1a1e5-ca0d-4e52-b8e8-8fbf7c3b2543",
   "metadata": {},
   "source": [
    "---"
   ]
  },
  {
   "cell_type": "code",
   "execution_count": null,
   "id": "68c69785-8cd5-41f7-b176-6a5b3750210d",
   "metadata": {},
   "outputs": [],
   "source": [
    "google = pd.read_csv(\"data/google.csv\", parse_dates=[\"Date\"], index_col=\"Date\")\n",
    "google = google.dropna()"
   ]
  },
  {
   "cell_type": "code",
   "execution_count": null,
   "id": "7fd5502a-bb3a-42eb-9051-bff23419d921",
   "metadata": {},
   "outputs": [],
   "source": [
    "google.info()"
   ]
  },
  {
   "cell_type": "code",
   "execution_count": null,
   "id": "e5662700-9636-4aa9-8958-f9424c4fd032",
   "metadata": {},
   "outputs": [],
   "source": [
    "google.head()"
   ]
  },
  {
   "cell_type": "markdown",
   "id": "3f60098d-ed0b-4fb7-8683-eb69a4039f0d",
   "metadata": {},
   "source": [
    "`.shift()`:\n",
    "\n",
    "- https://pandas.pydata.org/pandas-docs/stable/reference/api/pandas.DataFrame.shift.html\n",
    "- Moving data between past and future\n",
    "- Defaults to `periods=1` (1 period into the future)"
   ]
  },
  {
   "cell_type": "code",
   "execution_count": null,
   "id": "bdeb78b0-1a34-46b2-8c96-86f760ff249a",
   "metadata": {},
   "outputs": [],
   "source": [
    "google[\"shifted\"] = google[\"Close\"].shift()\n",
    "google.head()"
   ]
  },
  {
   "cell_type": "code",
   "execution_count": null,
   "id": "b1dedeb7-6cb4-4830-85da-1f55407f0e56",
   "metadata": {},
   "outputs": [],
   "source": [
    "google[\"lagged\"] = google[\"Close\"].shift(periods=-1)\n",
    "google.tail()"
   ]
  },
  {
   "cell_type": "markdown",
   "id": "e2e3740e-de54-42cb-b970-53fdd0b75846",
   "metadata": {},
   "source": [
    "## Calculate one-period percent change"
   ]
  },
  {
   "cell_type": "markdown",
   "id": "9766da61-4f80-4e3f-8436-cf447190d75a",
   "metadata": {},
   "source": [
    "- $x_t / x_{t-1}$\n",
    "- The factor by which you need to multiply the last price to get the current price"
   ]
  },
  {
   "cell_type": "code",
   "execution_count": null,
   "id": "16f2236d-3ef7-450b-bb2a-ee69c37e3c8e",
   "metadata": {},
   "outputs": [],
   "source": [
    "google[\"change\"] = google[\"Close\"].div(google[\"shifted\"])\n",
    "google.head()"
   ]
  },
  {
   "cell_type": "code",
   "execution_count": null,
   "id": "ad1ccce6-517d-424f-b4d4-94aca15f80e1",
   "metadata": {},
   "outputs": [],
   "source": [
    "# google[\"Close\"] / google[\"shifted\"]"
   ]
  },
  {
   "cell_type": "code",
   "execution_count": null,
   "id": "724d8e69-ac50-4e75-9c40-56bb5f7ad4e6",
   "metadata": {},
   "outputs": [],
   "source": [
    "google[\"return\"] = google[\"change\"].sub(1).mul(100)\n",
    "google.head()"
   ]
  },
  {
   "cell_type": "markdown",
   "id": "e4a64598-c74c-4528-94e0-59ecba3c2485",
   "metadata": {},
   "source": [
    "`.diff()`: Difference in value for two adjacent periods."
   ]
  },
  {
   "cell_type": "code",
   "execution_count": null,
   "id": "158e8072-d33b-44e8-93c0-0379d0f6bced",
   "metadata": {},
   "outputs": [],
   "source": [
    "google[\"diff\"] = google[\"Close\"].diff()\n",
    "google.head()"
   ]
  },
  {
   "cell_type": "markdown",
   "id": "75b6b802-fb66-4541-b78f-4fb2762f6d08",
   "metadata": {},
   "source": [
    "`.pct_change()`: Percent change for two adjacent periods."
   ]
  },
  {
   "cell_type": "code",
   "execution_count": null,
   "id": "c6fc1c5f-73d4-4f2f-ad90-3df6dcb34b04",
   "metadata": {},
   "outputs": [],
   "source": [
    "google[\"pct_change\"] = google[\"Close\"].pct_change().mul(100)\n",
    "google.head()"
   ]
  },
  {
   "cell_type": "markdown",
   "id": "d5b1abcf-0ce5-430c-b691-9af6b32f316c",
   "metadata": {},
   "source": [
    "---"
   ]
  },
  {
   "cell_type": "code",
   "execution_count": null,
   "id": "2720311f-a109-4717-a682-d72cdc43bbd2",
   "metadata": {},
   "outputs": [],
   "source": [
    "google = pd.read_csv(\"data/google.csv\", parse_dates=[\"Date\"], index_col=\"Date\")\n",
    "google = google.dropna()"
   ]
  },
  {
   "cell_type": "code",
   "execution_count": null,
   "id": "2855531e-af68-47f2-b131-b244689da458",
   "metadata": {},
   "outputs": [],
   "source": [
    "google.head()"
   ]
  },
  {
   "cell_type": "code",
   "execution_count": null,
   "id": "6523e1a6-9409-4a77-bf6e-cd30e1d6f388",
   "metadata": {},
   "outputs": [],
   "source": [
    "first_price = google[\"Close\"].iloc[0]\n",
    "first_price"
   ]
  },
  {
   "cell_type": "code",
   "execution_count": null,
   "id": "076b2cf5-b55a-4aa8-bbed-c28f8d1c2767",
   "metadata": {},
   "outputs": [],
   "source": [
    "normalized = google[\"Close\"].div(first_price).mul(100)\n",
    "normalized"
   ]
  },
  {
   "cell_type": "code",
   "execution_count": null,
   "id": "087a0324-c5e2-426a-928d-24398d538b11",
   "metadata": {},
   "outputs": [],
   "source": [
    "prices = pd.read_csv(\"data/apple_google.csv\", parse_dates=[\"Date\"], index_col=\"Date\")\n",
    "prices = prices.dropna()"
   ]
  },
  {
   "cell_type": "code",
   "execution_count": null,
   "id": "fd6f79da-d2c4-48b9-a72b-b262b8c751fe",
   "metadata": {},
   "outputs": [],
   "source": [
    "prices.head()"
   ]
  },
  {
   "cell_type": "code",
   "execution_count": null,
   "id": "a73389ef-f772-4f56-bfe1-4f630d6d6bc8",
   "metadata": {},
   "outputs": [],
   "source": [
    "prices.shape"
   ]
  },
  {
   "cell_type": "code",
   "execution_count": null,
   "id": "8bd7e164-c157-486c-977b-5b27fe5fa8d1",
   "metadata": {},
   "outputs": [],
   "source": [
    "first_prices = prices.iloc[0]\n",
    "first_prices"
   ]
  },
  {
   "cell_type": "code",
   "execution_count": null,
   "id": "ea4b744d-b32a-4389-9f08-cb4d1b037c14",
   "metadata": {},
   "outputs": [],
   "source": [
    "normalized = prices.div(first_prices).mul(100)\n",
    "normalized.head()"
   ]
  },
  {
   "cell_type": "code",
   "execution_count": null,
   "id": "5f384b72-4716-4064-a228-aca7983c43e5",
   "metadata": {},
   "outputs": [],
   "source": [
    "prices = pd.read_csv(\"data/apple_google.csv\", parse_dates=[\"Date\"], index_col=\"Date\")\n",
    "index = pd.read_csv(\"data/sp500.csv\", parse_dates=[\"date\"], index_col=\"date\")"
   ]
  },
  {
   "cell_type": "code",
   "execution_count": null,
   "id": "3cd4d707-c6af-481f-b159-397d98541c92",
   "metadata": {},
   "outputs": [],
   "source": [
    "prices = pd.concat([prices, index], axis=1).dropna()\n",
    "prices.head()"
   ]
  },
  {
   "cell_type": "code",
   "execution_count": null,
   "id": "f45cafa7-1edf-4708-bc08-7cba8be4573f",
   "metadata": {},
   "outputs": [],
   "source": [
    "prices.info()"
   ]
  },
  {
   "cell_type": "code",
   "execution_count": null,
   "id": "c8518bfb-6587-43e9-8bb7-75997bbd2449",
   "metadata": {},
   "outputs": [],
   "source": [
    "normalized = prices.div(prices.iloc[0]).mul(100)\n",
    "normalized.head()"
   ]
  },
  {
   "cell_type": "markdown",
   "id": "f2a74b57-bcf2-44ce-893d-5f4e5028504b",
   "metadata": {},
   "source": [
    "Performance difference for each stock relative to the benchmark (`SP500`) in percentage points, subtract the normalized `SP500` from the normalized stock prices:"
   ]
  },
  {
   "cell_type": "code",
   "execution_count": null,
   "id": "0b4aa59f-48fa-4e11-abeb-71f52234946d",
   "metadata": {},
   "outputs": [],
   "source": [
    "diff = normalized[[\"AAPL\", \"GOOG\"]].sub(normalized[\"SP500\"], axis=0)\n",
    "diff.head()"
   ]
  },
  {
   "cell_type": "markdown",
   "id": "1965e2ed-63ed-4550-a229-f9b2b62587fa",
   "metadata": {},
   "source": [
    "---"
   ]
  },
  {
   "cell_type": "markdown",
   "id": "bd16754e-6f84-405b-b12b-03e2b7375697",
   "metadata": {},
   "source": [
    "## Changing the frequency: resampling"
   ]
  },
  {
   "cell_type": "markdown",
   "id": "1f9df1b9-7105-41cd-8186-b4886a4d73f5",
   "metadata": {},
   "source": [
    "- Upsampling: fill or interpolate missing data\n",
    "- Downsampling: aggregate existing data"
   ]
  },
  {
   "cell_type": "code",
   "execution_count": null,
   "id": "431a986a-8310-44aa-89e5-3c7093cdb671",
   "metadata": {},
   "outputs": [],
   "source": [
    "dates = pd.date_range(start=\"2016\", periods=4, freq=\"Q\")\n",
    "\n",
    "quarterly = pd.Series(data=range(1,5), index=dates)\n",
    "quarterly"
   ]
  },
  {
   "cell_type": "code",
   "execution_count": null,
   "id": "d181cd6a-a5bd-4f4c-b270-2af4494402b9",
   "metadata": {},
   "outputs": [],
   "source": [
    "monthly = quarterly.asfreq(\"M\")\n",
    "monthly"
   ]
  },
  {
   "cell_type": "code",
   "execution_count": null,
   "id": "cbf4fb2e-46f2-4a9e-966c-229235ec66e0",
   "metadata": {},
   "outputs": [],
   "source": [
    "monthly = monthly.to_frame(\"baseline\")\n",
    "monthly.head()"
   ]
  },
  {
   "cell_type": "code",
   "execution_count": null,
   "id": "112095e2-44fd-4848-a98b-273e330f7776",
   "metadata": {},
   "outputs": [],
   "source": [
    "# Forward fill\n",
    "monthly[\"ffill\"] = quarterly.asfreq(\"M\", method=\"ffill\")\n",
    "# Backfill\n",
    "monthly[\"bfill\"] = quarterly.asfreq(\"M\", method=\"bfill\")\n",
    "monthly[\"value\"] = quarterly.asfreq(\"M\", fill_value=0)\n",
    "\n",
    "monthly"
   ]
  },
  {
   "cell_type": "code",
   "execution_count": null,
   "id": "075994fe-7082-4f2d-95c8-ea46e11f50a3",
   "metadata": {},
   "outputs": [],
   "source": [
    "dates = pd.date_range(start=\"2016\", periods=12, freq=\"M\")\n",
    "dates"
   ]
  },
  {
   "cell_type": "code",
   "execution_count": null,
   "id": "b673ac8c-701b-4669-8dd2-fbb2b59544ae",
   "metadata": {},
   "outputs": [],
   "source": [
    "quarterly"
   ]
  },
  {
   "cell_type": "code",
   "execution_count": null,
   "id": "a4c17035-ecb9-4302-8dd2-a25a530baee4",
   "metadata": {},
   "outputs": [],
   "source": [
    "quarterly.reindex(dates)"
   ]
  },
  {
   "cell_type": "markdown",
   "id": "5abac813-8b8e-406d-850e-50ef75133d10",
   "metadata": {},
   "source": [
    "---"
   ]
  },
  {
   "cell_type": "code",
   "execution_count": null,
   "id": "8051e6c2-bc3f-4fa5-9f84-be06035cd822",
   "metadata": {},
   "outputs": [],
   "source": []
  },
  {
   "cell_type": "markdown",
   "id": "2e9e8c17-1ae6-4dba-a308-6119737a3f3a",
   "metadata": {},
   "source": [
    "---"
   ]
  }
 ],
 "metadata": {
  "kernelspec": {
   "display_name": "Python 3 (ipykernel)",
   "language": "python",
   "name": "python3"
  },
  "language_info": {
   "codemirror_mode": {
    "name": "ipython",
    "version": 3
   },
   "file_extension": ".py",
   "mimetype": "text/x-python",
   "name": "python",
   "nbconvert_exporter": "python",
   "pygments_lexer": "ipython3",
   "version": "3.7.12"
  }
 },
 "nbformat": 4,
 "nbformat_minor": 5
}
